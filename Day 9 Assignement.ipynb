{
 "cells": [
  {
   "cell_type": "code",
   "execution_count": null,
   "id": "6a506314-637d-435d-9348-9499d66d3a50",
   "metadata": {},
   "outputs": [],
   "source": [
    "import pandas as pd\n",
    "\n",
    "# Load the banking_data.csv file\n",
    "df = pd.read_csv('banking_data.csv')\n",
    "\n",
    "# Display the first 5 rows of the dataset\n",
    "print(\"First 5 rows of the dataset:\")\n",
    "print(df.head())\n",
    "\n",
    "# Use .describe() to generate basic statistics of the numerical columns\n",
    "print(\"\\nBasic statistics of the numerical columns:\")\n",
    "print(df.describe())\n",
    "\n",
    "# Check for missing values in the dataset\n",
    "print(\"\\nMissing values in the dataset:\")\n",
    "print(df.isnull().sum())\n"
   ]
  },
  {
   "cell_type": "code",
   "execution_count": null,
   "id": "aa540d1a-a0e6-45ac-a3a7-d4de0a47ff3b",
   "metadata": {},
   "outputs": [],
   "source": [
    "import pandas as pd\n",
    "\n",
    "# Load the banking_data.csv file\n",
    "df = pd.read_csv('banking_data.csv')\n",
    "\n",
    "# Group the data by Account_Type and calculate the total sum of Transaction_Amount\n",
    "total_transaction_amount_by_account_type = df.groupby('Account_Type')['Transaction_Amount'].sum()\n",
    "print(\"\\nTotal sum of Transaction_Amount by Account_Type:\")\n",
    "print(total_transaction_amount_by_account_type)\n",
    "\n",
    "# Calculate the average Account_Balance for each account type\n",
    "average_account_balance_by_account_type = df.groupby('Account_Type')['Account_Balance'].mean()\n",
    "print(\"\\nAverage Account_Balance for each Account_Type:\")\n",
    "print(average_account_balance_by_account_type)\n",
    "\n",
    "# Group the data by Branch and calculate the total number of transactions per branch\n",
    "total_transactions_per_branch = df.groupby('Branch')['Transaction_Amount'].count()\n",
    "print(\"\\nTotal number of transactions per branch:\")\n",
    "print(total_transactions_per_branch)\n",
    "\n",
    "# Calculate the average transaction amount per branch\n",
    "average_transaction_amount_per_branch = df.groupby('Branch')['Transaction_Amount'].mean()\n",
    "print(\"\\nAverage transaction amount per branch:\")\n",
    "print(average_transaction_amount_per_branch)\n"
   ]
  }
 ],
 "metadata": {
  "kernelspec": {
   "display_name": "Python 3 (ipykernel)",
   "language": "python",
   "name": "python3"
  },
  "language_info": {
   "codemirror_mode": {
    "name": "ipython",
    "version": 3
   },
   "file_extension": ".py",
   "mimetype": "text/x-python",
   "name": "python",
   "nbconvert_exporter": "python",
   "pygments_lexer": "ipython3",
   "version": "3.12.4"
  }
 },
 "nbformat": 4,
 "nbformat_minor": 5
}
