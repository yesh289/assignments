{
 "cells": [
  {
   "cell_type": "code",
   "execution_count": 1,
   "id": "f8744e4b-d317-496e-b2e7-73c38132e8f5",
   "metadata": {},
   "outputs": [
    {
     "name": "stdin",
     "output_type": "stream",
     "text": [
      "Enter a positive integer:  5\n"
     ]
    },
    {
     "name": "stdout",
     "output_type": "stream",
     "text": [
      "Numbers from 1 to 5 :\n",
      "1\n",
      "2\n",
      "3\n",
      "4\n",
      "5\n",
      "The sum of all numbers from 1 to 5 is: 15\n"
     ]
    }
   ],
   "source": [
    "# 1. Ask the user to enter a positive integer `n`\n",
    "n = int(input(\"Enter a positive integer: \"))\n",
    "\n",
    "# 2. Use a `for` loop to print all numbers from `1` to `n` on separate lines\n",
    "print(\"Numbers from 1 to\", n, \":\")\n",
    "for i in range(1, n + 1):\n",
    "    print(i)\n",
    "\n",
    "# 3. Use a `while` loop to calculate the sum of all numbers from `1` to `n` and print the result\n",
    "sum_of_numbers = 0\n",
    "i = 1\n",
    "while i <= n:\n",
    "    sum_of_numbers += i\n",
    "    i += 1\n",
    "\n",
    "print(\"The sum of all numbers from 1 to\", n, \"is:\", sum_of_numbers)\n"
   ]
  },
  {
   "cell_type": "code",
   "execution_count": 3,
   "id": "7fc4704c-e270-4613-9ea6-270ed8f580ee",
   "metadata": {},
   "outputs": [
    {
     "name": "stdin",
     "output_type": "stream",
     "text": [
      "Enter a positive integer:  5\n"
     ]
    },
    {
     "name": "stdout",
     "output_type": "stream",
     "text": [
      "The square of 5 is: 25\n"
     ]
    }
   ],
   "source": [
    "# Define a function named calculate_square that takes a single argument `n` and returns the square of `n`\n",
    "def calculate_square(n):\n",
    "    return n * n\n",
    "\n",
    "# In the main program, ask the user to input a positive integer\n",
    "n = int(input(\"Enter a positive integer: \"))\n",
    "\n",
    "# Call the calculate_square function with the user-provided number and display the result\n",
    "square = calculate_square(n)\n",
    "print(\"The square of\", n, \"is:\", square)\n"
   ]
  },
  {
   "cell_type": "code",
   "execution_count": null,
   "id": "e4969aa5-c66a-4a6f-bc75-43645dad3007",
   "metadata": {},
   "outputs": [],
   "source": []
  }
 ],
 "metadata": {
  "kernelspec": {
   "display_name": "Python 3 (ipykernel)",
   "language": "python",
   "name": "python3"
  },
  "language_info": {
   "codemirror_mode": {
    "name": "ipython",
    "version": 3
   },
   "file_extension": ".py",
   "mimetype": "text/x-python",
   "name": "python",
   "nbconvert_exporter": "python",
   "pygments_lexer": "ipython3",
   "version": "3.12.4"
  }
 },
 "nbformat": 4,
 "nbformat_minor": 5
}
