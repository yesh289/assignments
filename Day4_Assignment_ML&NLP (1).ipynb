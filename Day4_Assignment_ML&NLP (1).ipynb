{
 "cells": [
  {
   "cell_type": "code",
   "execution_count": 1,
   "id": "01f596a3-8991-4efb-a951-a17d88972d0c",
   "metadata": {},
   "outputs": [
    {
     "name": "stdin",
     "output_type": "stream",
     "text": [
      "Enter a positive integer:  5\n"
     ]
    },
    {
     "name": "stdout",
     "output_type": "stream",
     "text": [
      "The sum of all even numbers between 1 and 5 is: 6\n"
     ]
    }
   ],
   "source": [
    "# Function to calculate the sum of all even numbers between 1 and n\n",
    "def sum_of_even_numbers(n):\n",
    "    sum_even = 0\n",
    "    for i in range(1, n + 1):\n",
    "        if i % 2 == 0:\n",
    "            sum_even += i\n",
    "    return sum_even\n",
    "\n",
    "# Input positive integer n\n",
    "n = int(input(\"Enter a positive integer: \"))\n",
    "\n",
    "# Calculate and print the sum of all even numbers between 1 and n\n",
    "if n > 0:\n",
    "    result = sum_of_even_numbers(n)\n",
    "    print(\"The sum of all even numbers between 1 and\", n, \"is:\", result)\n",
    "else:\n",
    "    print(\"Please enter a positive integer.\")\n"
   ]
  },
  {
   "cell_type": "code",
   "execution_count": null,
   "id": "9d681291-bc81-4f9e-9d53-de4195b7bbb5",
   "metadata": {},
   "outputs": [],
   "source": []
  }
 ],
 "metadata": {
  "kernelspec": {
   "display_name": "Python 3 (ipykernel)",
   "language": "python",
   "name": "python3"
  },
  "language_info": {
   "codemirror_mode": {
    "name": "ipython",
    "version": 3
   },
   "file_extension": ".py",
   "mimetype": "text/x-python",
   "name": "python",
   "nbconvert_exporter": "python",
   "pygments_lexer": "ipython3",
   "version": "3.12.4"
  }
 },
 "nbformat": 4,
 "nbformat_minor": 5
}
