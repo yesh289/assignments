{
 "cells": [
  {
   "cell_type": "code",
   "execution_count": null,
   "id": "ce3aaa5c-6ab8-4b3b-9abd-5882af10bfb4",
   "metadata": {},
   "outputs": [],
   "source": [
    "import pandas as pd\n",
    "\n",
    "# Load the sales_data.csv file\n",
    "df = pd.read_csv('sales_data.csv')\n",
    "\n",
    "# Display the first 5 rows of the dataset\n",
    "print(\"First 5 rows of the dataset:\")\n",
    "print(df.head())\n",
    "\n",
    "# Print basic statistics of the numerical columns\n",
    "print(\"\\nBasic statistics of the numerical columns:\")\n",
    "print(df.describe())\n",
    "\n",
    "# Calculate the total sales for each region\n",
    "total_sales_by_region = df.groupby('Region')['Sales'].sum()\n",
    "print(\"\\nTotal sales for each region:\")\n",
    "print(total_sales_by_region)\n",
    "\n",
    "# Find the most sold product (based on quantity)\n",
    "most_sold_product = df.groupby('Product')['Quantity'].sum().idxmax()\n",
    "print(\"\\nMost sold product (based on quantity):\", most_sold_product)\n",
    "\n",
    "# Compute the average profit margin for each product\n",
    "df['Profit Margin'] = (df['Profit'] / df['Sales']) * 100\n",
    "average_profit_margin_by_product = df.groupby('Product')['Profit Margin'].mean()\n",
    "print(\"\\nAverage profit margin for each product:\")\n",
    "print(average_profit_margin_by_product)\n",
    "\n"
   ]
  },
  {
   "cell_type": "code",
   "execution_count": null,
   "id": "1c8e248e-e71e-4a55-a5a7-87d159fcd0c7",
   "metadata": {},
   "outputs": [],
   "source": []
  }
 ],
 "metadata": {
  "kernelspec": {
   "display_name": "Python 3 (ipykernel)",
   "language": "python",
   "name": "python3"
  },
  "language_info": {
   "codemirror_mode": {
    "name": "ipython",
    "version": 3
   },
   "file_extension": ".py",
   "mimetype": "text/x-python",
   "name": "python",
   "nbconvert_exporter": "python",
   "pygments_lexer": "ipython3",
   "version": "3.12.4"
  }
 },
 "nbformat": 4,
 "nbformat_minor": 5
}
